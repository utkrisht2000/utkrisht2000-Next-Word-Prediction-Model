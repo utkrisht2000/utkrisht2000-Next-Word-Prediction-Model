{
  "cells": [
    {
      "cell_type": "markdown",
      "metadata": {
        "id": "view-in-github",
        "colab_type": "text"
      },
      "source": [
        "<a href=\"https://colab.research.google.com/github/utkrisht2000/utkrisht2000-Next-Word-Prediction-Model/blob/main/Next_Word_Prediction_Model.ipynb\" target=\"_parent\"><img src=\"https://colab.research.google.com/assets/colab-badge.svg\" alt=\"Open In Colab\"/></a>"
      ]
    },
    {
      "cell_type": "code",
      "execution_count": null,
      "metadata": {
        "id": "zyRAd7qvee3Z"
      },
      "outputs": [],
      "source": [
        "# Import Libraries\n",
        "\n",
        "import numpy as np\n",
        "from nltk.tokenize import RegexpTokenizer\n",
        "from keras.models import Sequential, load_model\n",
        "from keras.layers import LSTM\n",
        "from keras.layers.core import Dense, Activation\n",
        "import matplotlib.pyplot as plt\n",
        "from keras.callbacks import ModelCheckpoint, EarlyStopping\n",
        "from keras.layers import Dense, Activation, Dropout\n",
        "from keras.layers import LSTM, Input, Flatten, Bidirectional\n",
        "from tensorflow.keras.optimizers import Adam\n",
        "from keras.utils.vis_utils import plot_model\n",
        "import pickle\n",
        "import heapq"
      ]
    },
    {
      "cell_type": "code",
      "execution_count": null,
      "metadata": {
        "colab": {
          "base_uri": "https://localhost:8080/"
        },
        "id": "Xekduflzfbd7",
        "outputId": "155e4d14-444a-4250-c030-d3f92e8539a7"
      },
      "outputs": [
        {
          "output_type": "stream",
          "name": "stdout",
          "text": [
            "Mounted at /content/drive\n"
          ]
        }
      ],
      "source": [
        "# Mount Gdrive\n",
        "\n",
        "from google.colab import drive\n",
        "drive.mount('/content/drive')"
      ]
    },
    {
      "cell_type": "code",
      "execution_count": null,
      "metadata": {
        "colab": {
          "base_uri": "https://localhost:8080/"
        },
        "id": "NPeWnfE5ee3g",
        "outputId": "e3d91bf3-f8ec-454d-953b-e74e01e648a8"
      },
      "outputs": [
        {
          "output_type": "stream",
          "name": "stdout",
          "text": [
            "Corpus length: 581888\n"
          ]
        }
      ],
      "source": [
        "# Load Dataset\n",
        "\n",
        "path = '/content/drive/MyDrive/Projects/Next_Word_Prediction/1661-0.txt'\n",
        "text = open(path , errors=\"ignore\").read().lower()\n",
        "print('Corpus length:', len(text))"
      ]
    },
    {
      "cell_type": "code",
      "execution_count": null,
      "metadata": {
        "colab": {
          "base_uri": "https://localhost:8080/"
        },
        "id": "J0Maj2nvee3g",
        "outputId": "c58fe491-2299-42c2-b361-ab4d89b8450a"
      },
      "outputs": [
        {
          "output_type": "stream",
          "name": "stdout",
          "text": [
            "Unique chars: 73\n"
          ]
        }
      ],
      "source": [
        "# Find Unique Characters\n",
        "\n",
        "chars = sorted(list(set(text)))\n",
        "char_indices = dict((c, i) for i, c in enumerate(chars))\n",
        "indices_char = dict((i, c) for i, c in enumerate(chars))\n",
        "\n",
        "print(f'Unique chars: {len(chars)}')"
      ]
    },
    {
      "cell_type": "code",
      "execution_count": null,
      "metadata": {
        "colab": {
          "base_uri": "https://localhost:8080/"
        },
        "id": "PainQHycee3h",
        "outputId": "5adef72d-53ec-49dd-ce59-35c9244a6427"
      },
      "outputs": [
        {
          "output_type": "stream",
          "name": "stdout",
          "text": [
            "Num training examples: 193950\n",
            "﻿\n",
            "project gutenberg's the adventures of \n",
            "s\n"
          ]
        }
      ],
      "source": [
        "# Define The Training Features\n",
        "\n",
        "SEQUENCE_LENGTH = 40\n",
        "step = 3\n",
        "sentences = []\n",
        "next_chars = []\n",
        "for i in range(0, len(text) - SEQUENCE_LENGTH, step):\n",
        "    sentences.append(text[i: i + SEQUENCE_LENGTH])\n",
        "    next_chars.append(text[i + SEQUENCE_LENGTH])\n",
        "print(f'Num training examples: {len(sentences)}')\n",
        "print(sentences[0])\n",
        "print(next_chars[0])"
      ]
    },
    {
      "cell_type": "code",
      "execution_count": null,
      "metadata": {
        "id": "wnCOFA16ee3i"
      },
      "outputs": [],
      "source": [
        "# Define Features & labels\n",
        "\n",
        "X = np.zeros((len(sentences), SEQUENCE_LENGTH, len(chars)), dtype=bool)\n",
        "y = np.zeros((len(sentences), len(chars)), dtype=bool)\n",
        "for i, sentence in enumerate(sentences):\n",
        "    for t, char in enumerate(sentence):\n",
        "        X[i, t, char_indices[char]] = 1\n",
        "    y[i, char_indices[next_chars[i]]] = 1"
      ]
    },
    {
      "cell_type": "code",
      "execution_count": null,
      "metadata": {
        "colab": {
          "base_uri": "https://localhost:8080/"
        },
        "id": "-qjqjTdoee3i",
        "outputId": "e27a8aee-809f-4ee4-8a3d-5e17ffe85ca0"
      },
      "outputs": [
        {
          "output_type": "stream",
          "name": "stderr",
          "text": [
            "/usr/local/lib/python3.7/dist-packages/keras/optimizer_v2/adam.py:105: UserWarning: The `lr` argument is deprecated, use `learning_rate` instead.\n",
            "  super(Adam, self).__init__(name, **kwargs)\n"
          ]
        }
      ],
      "source": [
        "# Define RNN Model\n",
        "\n",
        "model = Sequential()\n",
        "model.add(Bidirectional(LSTM(128, activation=\"relu\",return_sequences=True),input_shape=(SEQUENCE_LENGTH, len(chars))))\n",
        "model.add(Bidirectional(LSTM(128)))\n",
        "model.add(Dropout(0.6))\n",
        "model.add(Dense(len(chars)))\n",
        "model.add(Activation('softmax'))\n",
        "optimizer = Adam(lr=0.001)"
      ]
    },
    {
      "cell_type": "code",
      "source": [
        "# Steps Of RNN\n",
        "plot_model(model, to_file='/content/drive/MyDrive/Projects/Next_Word_Prediction/plot.png', show_layer_names=True)"
      ],
      "metadata": {
        "colab": {
          "base_uri": "https://localhost:8080/",
          "height": 564
        },
        "id": "ENpLDE63blvI",
        "outputId": "5df82cd0-18d0-47f1-ec5e-6af83bb1c61e"
      },
      "execution_count": null,
      "outputs": [
        {
          "output_type": "execute_result",
          "data": {
            "image/png": "[encoded data removed]",
            "text/plain": [
              "<IPython.core.display.Image object>"
            ]
          },
          "metadata": {},
          "execution_count": 10
        }
      ]
    },
    {
      "cell_type": "code",
      "execution_count": null,
      "metadata": {
        "colab": {
          "base_uri": "https://localhost:8080/"
        },
        "id": "owo0yy_cee3k",
        "outputId": "e2efad15-349e-4d0f-f7ef-a71345e229c9"
      },
      "outputs": [
        {
          "output_type": "stream",
          "name": "stdout",
          "text": [
            "Epoch 1/10\n",
            "1440/1440 [==============================] - 818s 564ms/step - loss: 2.5422 - accuracy: 0.2819 - val_loss: 2.4305 - val_accuracy: 0.3165\n",
            "Epoch 2/10\n",
            "1440/1440 [==============================] - 795s 552ms/step - loss: 2.1152 - accuracy: 0.3822 - val_loss: 2.2943 - val_accuracy: 0.3548\n",
            "Epoch 3/10\n",
            "1440/1440 [==============================] - 792s 550ms/step - loss: 1.9594 - accuracy: 0.4276 - val_loss: 2.1938 - val_accuracy: 0.3848\n",
            "Epoch 4/10\n",
            "1440/1440 [==============================] - 796s 553ms/step - loss: 1.8473 - accuracy: 0.4572 - val_loss: 2.0993 - val_accuracy: 0.4095\n",
            "Epoch 5/10\n",
            "1440/1440 [==============================] - 796s 553ms/step - loss: 1.7662 - accuracy: 0.4774 - val_loss: 2.0665 - val_accuracy: 0.4212\n",
            "Epoch 6/10\n",
            "1440/1440 [==============================] - 789s 548ms/step - loss: 1.7056 - accuracy: 0.4948 - val_loss: 2.0203 - val_accuracy: 0.4384\n",
            "Epoch 7/10\n",
            "1440/1440 [==============================] - 787s 546ms/step - loss: 1.6571 - accuracy: 0.5081 - val_loss: 2.0000 - val_accuracy: 0.4348\n",
            "Epoch 8/10\n",
            "1440/1440 [==============================] - 789s 548ms/step - loss: 1.6192 - accuracy: 0.5195 - val_loss: 1.9653 - val_accuracy: 0.4515\n",
            "Epoch 9/10\n",
            "1440/1440 [==============================] - 788s 547ms/step - loss: 1.5782 - accuracy: 0.5289 - val_loss: 1.9580 - val_accuracy: 0.4551\n",
            "Epoch 10/10\n",
            "1440/1440 [==============================] - 789s 548ms/step - loss: 1.5477 - accuracy: 0.5370 - val_loss: 1.9467 - val_accuracy: 0.4607\n"
          ]
        }
      ],
      "source": [
        "# Compile Model\n",
        "\n",
        "model.compile(loss='categorical_crossentropy', optimizer=optimizer, metrics=['accuracy'])\n",
        "history = model.fit(X, y, validation_split=0.05, batch_size=128, epochs=10, shuffle=True).history"
      ]
    },
    {
      "cell_type": "code",
      "execution_count": null,
      "metadata": {
        "id": "YT5V6S3Kee3l"
      },
      "outputs": [],
      "source": [
        "# Save & Load model\n",
        "\n",
        "model.save('/content/drive/MyDrive/Projects/Next_Word_Prediction/nextword1.h5')\n",
        "pickle.dump(history, open(\"history.p\", \"wb\"))\n",
        "model = load_model('/content/drive/MyDrive/Projects/Next_Word_Prediction/nextword1.h5')\n",
        "history = pickle.load(open(\"history.p\", \"rb\"))"
      ]
    },
    {
      "cell_type": "code",
      "execution_count": null,
      "metadata": {
        "id": "vvw970NXee3l",
        "colab": {
          "base_uri": "https://localhost:8080/",
          "height": 295
        },
        "outputId": "6e95f4d9-8407-4ac5-d732-7d4c46b61537"
      },
      "outputs": [
        {
          "output_type": "display_data",
          "data": {
            "text/plain": [
              "<Figure size 432x288 with 1 Axes>"
            ],
            "image/png": "[encoded data removed]"
          },
          "metadata": {
            "needs_background": "light"
          }
        }
      ],
      "source": [
        "# Visualisation\n",
        "\n",
        "plt.plot(history['accuracy'])\n",
        "plt.plot(history['val_accuracy'])\n",
        "plt.title('model_accuracy')\n",
        "plt.ylabel('accuracy')\n",
        "plt.xlabel('epoch')\n",
        "plt.legend(['train', 'test'], loc='upper left');\n",
        "plt.savefig('/content/drive/MyDrive/Projects/Next_Word_Prediction/model_accuracy.png')"
      ]
    },
    {
      "cell_type": "code",
      "execution_count": null,
      "metadata": {
        "id": "wak4pmNhee3m",
        "colab": {
          "base_uri": "https://localhost:8080/",
          "height": 295
        },
        "outputId": "231dfd23-56de-43ce-c5f2-084b3419f33d"
      },
      "outputs": [
        {
          "output_type": "display_data",
          "data": {
            "text/plain": [
              "<Figure size 432x288 with 1 Axes>"
            ],
            "image/png": "[encoded data removed]"
          },
          "metadata": {
            "needs_background": "light"
          }
        }
      ],
      "source": [
        "# Visualisation\n",
        "\n",
        "plt.plot(history['loss'])\n",
        "plt.plot(history['val_loss'])\n",
        "plt.title('model_loss')\n",
        "plt.ylabel('loss')\n",
        "plt.xlabel('epoch')\n",
        "plt.legend(['train', 'test'], loc='upper left');\n",
        "plt.savefig('/content/drive/MyDrive/Projects/Next_Word_Prediction/model_loss.png')"
      ]
    },
    {
      "cell_type": "code",
      "execution_count": null,
      "metadata": {
        "id": "zIWDtklwee3m",
        "colab": {
          "base_uri": "https://localhost:8080/"
        },
        "outputId": "57519d4c-bd01-4837-dbbe-8454b3c5da7c"
      },
      "outputs": [
        {
          "output_type": "stream",
          "name": "stdout",
          "text": [
            "1516/1516 [==============================] - 268s 176ms/step - loss: 1.4320 - accuracy: 0.5652\n"
          ]
        }
      ],
      "source": [
        "# Evaluate Model\n",
        "\n",
        "results = model.evaluate(X, y, batch_size=128,)"
      ]
    },
    {
      "cell_type": "code",
      "execution_count": null,
      "metadata": {
        "id": "7QeFR9VUee3n",
        "colab": {
          "base_uri": "https://localhost:8080/"
        },
        "outputId": "c11ca85f-0ca6-40d1-bd32-26b1bbaec49e"
      },
      "outputs": [
        {
          "output_type": "execute_result",
          "data": {
            "text/plain": [
              "array([[[0., 0., 0., ..., 0., 0., 0.],\n",
              "        [0., 0., 0., ..., 0., 0., 0.],\n",
              "        [0., 0., 0., ..., 0., 0., 0.],\n",
              "        ...,\n",
              "        [0., 0., 0., ..., 0., 0., 0.],\n",
              "        [0., 0., 0., ..., 0., 0., 0.],\n",
              "        [0., 0., 0., ..., 0., 0., 0.]]])"
            ]
          },
          "metadata": {},
          "execution_count": 16
        }
      ],
      "source": [
        "# Prepare Test Input\n",
        "\n",
        "def prepare_input(text):\n",
        "    x = np.zeros((1, SEQUENCE_LENGTH, len(chars)))\n",
        "    for t, char in enumerate(text):\n",
        "        x[0, t, char_indices[char]] = 1.\n",
        "        \n",
        "    return x\n",
        "prepare_input(\"This is an example of input for our LSTM\".lower())"
      ]
    },
    {
      "cell_type": "code",
      "execution_count": null,
      "metadata": {
        "id": "o2DVJt5Jee3n"
      },
      "outputs": [],
      "source": [
        "# Prepare Sample\n",
        "\n",
        "def sample(preds, top_n=3):\n",
        "    preds = np.asarray(preds).astype('float64')\n",
        "    preds = np.log(preds)\n",
        "    exp_preds = np.exp(preds)\n",
        "    preds = exp_preds / np.sum(exp_preds)\n",
        "    \n",
        "    return heapq.nlargest(top_n, range(len(preds)), preds.take)"
      ]
    },
    {
      "cell_type": "code",
      "execution_count": null,
      "metadata": {
        "id": "24gDk7v7ee3n"
      },
      "outputs": [],
      "source": [
        "# Prepare Model For Prediction\n",
        "\n",
        "def predict_completion(text):\n",
        "    original_text = text\n",
        "    generated = text\n",
        "    completion = ''\n",
        "    while True:\n",
        "        x = prepare_input(text)\n",
        "        preds = model.predict(x, verbose=0)[0]\n",
        "        next_index = sample(preds, top_n=1)[0]\n",
        "        next_char = indices_char[next_index]\n",
        "        text = text[1:] + next_char\n",
        "        completion += next_char\n",
        "        \n",
        "        if len(original_text + completion) + 2 > len(original_text) and next_char == ' ':\n",
        "            return completion"
      ]
    },
    {
      "cell_type": "code",
      "execution_count": null,
      "metadata": {
        "id": "9W-k5Vrbee3o"
      },
      "outputs": [],
      "source": [
        "# Prepare Model For Prediction\n",
        "\n",
        "def predict_completions(text, n=3):\n",
        "    x = prepare_input(text)\n",
        "    preds = model.predict(x, verbose=0)[0]\n",
        "    next_indices = sample(preds, n)\n",
        "    return [indices_char[idx] + predict_completion(text[1:] + indices_char[idx]) for idx in next_indices]"
      ]
    },
    {
      "cell_type": "code",
      "execution_count": null,
      "metadata": {
        "id": "8b2PGYJhee3o"
      },
      "outputs": [],
      "source": [
        "# Input\n",
        "\n",
        "quotes = [\n",
        "    \"where is the class happening today at what.\",\n",
        "    \"That which does not kill us makes us always makes us stronger.\",\n",
        "    \"Im not upset that you lied to me, Im only mildly dissapoined and upset that from now on I cant believe you.\",\n",
        "    \"And those who were seen dancing were thought to be insane by those who could not hear the music.\",\n",
        "    \"It is not a good day today for me as i was attacked by some people today and i got hurt badly\" ,\n",
        "    \"in the match that was conducted today we had sucessfuly defated our opponents\"\n",
        "    \n",
        "]"
      ]
    },
    {
      "cell_type": "code",
      "execution_count": null,
      "metadata": {
        "id": "WeAD5hMlee3o",
        "colab": {
          "base_uri": "https://localhost:8080/"
        },
        "outputId": "7dccc4be-ee4d-4255-e9a9-e97cccacaaf1"
      },
      "outputs": [
        {
          "output_type": "stream",
          "name": "stdout",
          "text": [
            "where is the class happening today at wh\n",
            "['ich ', 'ere ', 'at ', 'ole ', 'y ', 'ut ', 'row ', 'ho ', 'shough ', 'low ']\n",
            "\n",
            "that which does not kill us makes us alw\n",
            "['ays ', 'old ', 'ing ', 'ere ', 'ust ', 'y ', 'range ', 'hated ', 'lay ', 'say ']\n",
            "\n",
            "im not upset that you lied to me, im onl\n",
            "['y ', ' the ', 'ies ', 'e ', '\\nthe ', 'ow ', ', ', 'ace ', 'uce ', '. ']\n",
            "\n",
            "and those who were seen dancing were tho\n",
            "['ught ', 'se ', 'me ', 'rrough ', 'lme ', 'ne ', 'ok ', 'ther ', 'we ', ' state ']\n",
            "\n",
            "it is not a good day today for me as i w\n",
            "['as ', 'ill ', 'ould ', 'ent ', 'hole ', 'rite ', 'ull ', 'lite ', 'you ', 'winted ']\n",
            "\n",
            "in the match that was conducted today we\n",
            "[' have ', 're ', '\\nshall ', 'll ', 'nt ', ', ', '. ', 'en ', 'shed ', 'ar ']\n",
            "\n"
          ]
        }
      ],
      "source": [
        "# Predict Result\n",
        "\n",
        "for q in quotes:\n",
        "    seq = q[:40].lower()\n",
        "    print(seq)\n",
        "    print(predict_completions(seq,10))\n",
        "    print()"
      ]
    }
  ],
  "metadata": {
    "colab": {
      "collapsed_sections": [],
      "name": "Next_Word_Prediction_Model.ipynb",
      "provenance": [],
      "include_colab_link": true
    },
    "kernelspec": {
      "display_name": "Python 3",
      "language": "python",
      "name": "python3"
    },
    "language_info": {
      "codemirror_mode": {
        "name": "ipython",
        "version": 3
      },
      "file_extension": ".py",
      "mimetype": "text/x-python",
      "name": "python",
      "nbconvert_exporter": "python",
      "pygments_lexer": "ipython3",
      "version": "3.7.10"
    }
  },
  "nbformat": 4,
  "nbformat_minor": 0
}